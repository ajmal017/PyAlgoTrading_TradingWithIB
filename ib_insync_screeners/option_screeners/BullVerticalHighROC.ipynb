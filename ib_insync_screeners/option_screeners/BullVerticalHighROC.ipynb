{
 "cells": [
  {
   "cell_type": "markdown",
   "metadata": {},
   "source": [
    "Option chains\n",
    "======="
   ]
  },
  {
   "cell_type": "code",
   "execution_count": 11,
   "metadata": {
    "scrolled": true
   },
   "outputs": [
    {
     "data": {
      "text/plain": [
       "<IB connected to 127.0.0.1:7497 clientId=15>"
      ]
     },
     "execution_count": 11,
     "metadata": {},
     "output_type": "execute_result"
    }
   ],
   "source": [
    "from ib_insync import *\n",
    "util.startLoop()\n",
    "\n",
    "ib = IB()\n",
    "ib.connect('127.0.0.1', 7497, clientId=15, readonly=True )"
   ]
  },
  {
   "cell_type": "markdown",
   "metadata": {},
   "source": [
    "Suppose we want to find the options on the SPX, with the following conditions:\n",
    "\n",
    "* Use the next three monthly expiries;\n",
    "* Use strike prices within +- 20 dollar of the current SPX value;\n",
    "* Use strike prices that are a multitude of 5 dollar."
   ]
  },
  {
   "cell_type": "markdown",
   "metadata": {},
   "source": [
    "To get the current market value, first create a contract for the underlyer (the S&P 500 index):"
   ]
  },
  {
   "cell_type": "code",
   "execution_count": 12,
   "metadata": {},
   "outputs": [
    {
     "data": {
      "text/plain": [
       "[Stock(conId=756733, symbol='SPY', exchange='SMART', primaryExchange='ARCA', currency='USD', localSymbol='SPY', tradingClass='SPY')]"
      ]
     },
     "execution_count": 12,
     "metadata": {},
     "output_type": "execute_result"
    }
   ],
   "source": [
    "spx = Stock('SPY', 'SMART', currency='USD')\n",
    "\n",
    "ib.qualifyContracts(spx)"
   ]
  },
  {
   "cell_type": "markdown",
   "metadata": {},
   "source": [
    "To avoid issues with market data permissions, we'll use delayed data:"
   ]
  },
  {
   "cell_type": "code",
   "execution_count": 13,
   "metadata": {},
   "outputs": [],
   "source": [
    "ib.reqMarketDataType(1)"
   ]
  },
  {
   "cell_type": "markdown",
   "metadata": {},
   "source": [
    "Then get the ticker. Requesting a ticker can take up to 11 seconds."
   ]
  },
  {
   "cell_type": "code",
   "execution_count": 14,
   "metadata": {},
   "outputs": [
    {
     "data": {
      "text/plain": [
       "Ticker(contract=Stock(conId=756733, symbol='SPY', exchange='SMART', primaryExchange='ARCA', currency='USD', localSymbol='SPY', tradingClass='SPY'), time=datetime.datetime(2020, 5, 7, 21, 20, 27, 976624, tzinfo=datetime.timezone.utc), bid=288.41, bidSize=1, ask=288.46, askSize=1, last=288.41, lastSize=1, volume=747137, open=287.79, high=289.78, low=287.13, close=284.25, halted=0.0)"
      ]
     },
     "execution_count": 14,
     "metadata": {},
     "output_type": "execute_result"
    }
   ],
   "source": [
    "[ticker] = ib.reqTickers(spx)\n",
    "ticker"
   ]
  },
  {
   "cell_type": "markdown",
   "metadata": {},
   "source": [
    "Take the current market value of the ticker:"
   ]
  },
  {
   "cell_type": "code",
   "execution_count": 15,
   "metadata": {},
   "outputs": [
    {
     "data": {
      "text/plain": [
       "288.41"
      ]
     },
     "execution_count": 15,
     "metadata": {},
     "output_type": "execute_result"
    }
   ],
   "source": [
    "spxValue = ticker.marketPrice()\n",
    "spxValue"
   ]
  },
  {
   "cell_type": "markdown",
   "metadata": {},
   "source": [
    "The following request fetches a list of option chains:"
   ]
  },
  {
   "cell_type": "code",
   "execution_count": 16,
   "metadata": {},
   "outputs": [
    {
     "data": {
      "text/html": [
       "<div>\n",
       "<style scoped>\n",
       "    .dataframe tbody tr th:only-of-type {\n",
       "        vertical-align: middle;\n",
       "    }\n",
       "\n",
       "    .dataframe tbody tr th {\n",
       "        vertical-align: top;\n",
       "    }\n",
       "\n",
       "    .dataframe thead th {\n",
       "        text-align: right;\n",
       "    }\n",
       "</style>\n",
       "<table border=\"1\" class=\"dataframe\">\n",
       "  <thead>\n",
       "    <tr style=\"text-align: right;\">\n",
       "      <th></th>\n",
       "      <th>exchange</th>\n",
       "      <th>underlyingConId</th>\n",
       "      <th>tradingClass</th>\n",
       "      <th>multiplier</th>\n",
       "      <th>expirations</th>\n",
       "      <th>strikes</th>\n",
       "    </tr>\n",
       "  </thead>\n",
       "  <tbody>\n",
       "    <tr>\n",
       "      <th>0</th>\n",
       "      <td>NASDAQOM</td>\n",
       "      <td>756733</td>\n",
       "      <td>SPY</td>\n",
       "      <td>100</td>\n",
       "      <td>[20200508, 20200511, 20200513, 20200515, 20200...</td>\n",
       "      <td>[5.0, 10.0, 15.0, 20.0, 25.0, 30.0, 35.0, 40.0...</td>\n",
       "    </tr>\n",
       "    <tr>\n",
       "      <th>1</th>\n",
       "      <td>PSE</td>\n",
       "      <td>756733</td>\n",
       "      <td>SPY</td>\n",
       "      <td>100</td>\n",
       "      <td>[20200508, 20200511, 20200513, 20200515, 20200...</td>\n",
       "      <td>[5.0, 10.0, 15.0, 20.0, 25.0, 30.0, 35.0, 40.0...</td>\n",
       "    </tr>\n",
       "    <tr>\n",
       "      <th>2</th>\n",
       "      <td>BATS</td>\n",
       "      <td>756733</td>\n",
       "      <td>SPY</td>\n",
       "      <td>100</td>\n",
       "      <td>[20200508, 20200511, 20200513, 20200515, 20200...</td>\n",
       "      <td>[5.0, 10.0, 15.0, 20.0, 25.0, 30.0, 35.0, 40.0...</td>\n",
       "    </tr>\n",
       "    <tr>\n",
       "      <th>3</th>\n",
       "      <td>AMEX</td>\n",
       "      <td>756733</td>\n",
       "      <td>SPY</td>\n",
       "      <td>100</td>\n",
       "      <td>[20200508, 20200511, 20200513, 20200515, 20200...</td>\n",
       "      <td>[5.0, 10.0, 15.0, 20.0, 25.0, 30.0, 35.0, 40.0...</td>\n",
       "    </tr>\n",
       "    <tr>\n",
       "      <th>4</th>\n",
       "      <td>PEARL</td>\n",
       "      <td>756733</td>\n",
       "      <td>SPY</td>\n",
       "      <td>100</td>\n",
       "      <td>[20200508, 20200511, 20200513, 20200515, 20200...</td>\n",
       "      <td>[5.0, 10.0, 15.0, 20.0, 25.0, 30.0, 35.0, 40.0...</td>\n",
       "    </tr>\n",
       "    <tr>\n",
       "      <th>5</th>\n",
       "      <td>NASDAQBX</td>\n",
       "      <td>756733</td>\n",
       "      <td>SPY</td>\n",
       "      <td>100</td>\n",
       "      <td>[20200508, 20200511, 20200513, 20200515, 20200...</td>\n",
       "      <td>[5.0, 10.0, 15.0, 20.0, 25.0, 30.0, 35.0, 40.0...</td>\n",
       "    </tr>\n",
       "    <tr>\n",
       "      <th>6</th>\n",
       "      <td>ISE</td>\n",
       "      <td>756733</td>\n",
       "      <td>SPY</td>\n",
       "      <td>100</td>\n",
       "      <td>[20200508, 20200511, 20200513, 20200515, 20200...</td>\n",
       "      <td>[5.0, 10.0, 15.0, 20.0, 25.0, 30.0, 35.0, 40.0...</td>\n",
       "    </tr>\n",
       "    <tr>\n",
       "      <th>7</th>\n",
       "      <td>MIAX</td>\n",
       "      <td>756733</td>\n",
       "      <td>SPY</td>\n",
       "      <td>100</td>\n",
       "      <td>[20200508, 20200511, 20200513, 20200515, 20200...</td>\n",
       "      <td>[5.0, 10.0, 15.0, 20.0, 25.0, 30.0, 35.0, 40.0...</td>\n",
       "    </tr>\n",
       "    <tr>\n",
       "      <th>8</th>\n",
       "      <td>SMART</td>\n",
       "      <td>756733</td>\n",
       "      <td>SPY</td>\n",
       "      <td>100</td>\n",
       "      <td>[20200508, 20200511, 20200513, 20200515, 20200...</td>\n",
       "      <td>[5.0, 10.0, 15.0, 20.0, 25.0, 30.0, 35.0, 40.0...</td>\n",
       "    </tr>\n",
       "    <tr>\n",
       "      <th>9</th>\n",
       "      <td>CBOE</td>\n",
       "      <td>756733</td>\n",
       "      <td>SPY</td>\n",
       "      <td>100</td>\n",
       "      <td>[20200508, 20200511, 20200513, 20200515, 20200...</td>\n",
       "      <td>[5.0, 10.0, 15.0, 20.0, 25.0, 30.0, 35.0, 40.0...</td>\n",
       "    </tr>\n",
       "    <tr>\n",
       "      <th>10</th>\n",
       "      <td>MERCURY</td>\n",
       "      <td>756733</td>\n",
       "      <td>SPY</td>\n",
       "      <td>100</td>\n",
       "      <td>[20200508, 20200511, 20200513, 20200515, 20200...</td>\n",
       "      <td>[5.0, 10.0, 15.0, 20.0, 25.0, 30.0, 35.0, 40.0...</td>\n",
       "    </tr>\n",
       "    <tr>\n",
       "      <th>11</th>\n",
       "      <td>EDGX</td>\n",
       "      <td>756733</td>\n",
       "      <td>SPY</td>\n",
       "      <td>100</td>\n",
       "      <td>[20200508, 20200511, 20200513, 20200515, 20200...</td>\n",
       "      <td>[5.0, 10.0, 15.0, 20.0, 25.0, 30.0, 35.0, 40.0...</td>\n",
       "    </tr>\n",
       "    <tr>\n",
       "      <th>12</th>\n",
       "      <td>GEMINI</td>\n",
       "      <td>756733</td>\n",
       "      <td>SPY</td>\n",
       "      <td>100</td>\n",
       "      <td>[20200508, 20200511, 20200513, 20200515, 20200...</td>\n",
       "      <td>[5.0, 10.0, 15.0, 20.0, 25.0, 30.0, 35.0, 40.0...</td>\n",
       "    </tr>\n",
       "    <tr>\n",
       "      <th>13</th>\n",
       "      <td>BOX</td>\n",
       "      <td>756733</td>\n",
       "      <td>SPY</td>\n",
       "      <td>100</td>\n",
       "      <td>[20200508, 20200511, 20200513, 20200515, 20200...</td>\n",
       "      <td>[5.0, 10.0, 15.0, 20.0, 25.0, 30.0, 35.0, 40.0...</td>\n",
       "    </tr>\n",
       "    <tr>\n",
       "      <th>14</th>\n",
       "      <td>CBOE2</td>\n",
       "      <td>756733</td>\n",
       "      <td>SPY</td>\n",
       "      <td>100</td>\n",
       "      <td>[20200508, 20200511, 20200513, 20200515, 20200...</td>\n",
       "      <td>[5.0, 10.0, 15.0, 20.0, 25.0, 30.0, 35.0, 40.0...</td>\n",
       "    </tr>\n",
       "    <tr>\n",
       "      <th>15</th>\n",
       "      <td>EMERALD</td>\n",
       "      <td>756733</td>\n",
       "      <td>SPY</td>\n",
       "      <td>100</td>\n",
       "      <td>[20200508, 20200511, 20200513, 20200515, 20200...</td>\n",
       "      <td>[5.0, 10.0, 15.0, 20.0, 25.0, 30.0, 35.0, 40.0...</td>\n",
       "    </tr>\n",
       "    <tr>\n",
       "      <th>16</th>\n",
       "      <td>PHLX</td>\n",
       "      <td>756733</td>\n",
       "      <td>SPY</td>\n",
       "      <td>100</td>\n",
       "      <td>[20200508, 20200511, 20200513, 20200515, 20200...</td>\n",
       "      <td>[5.0, 10.0, 15.0, 20.0, 25.0, 30.0, 35.0, 40.0...</td>\n",
       "    </tr>\n",
       "  </tbody>\n",
       "</table>\n",
       "</div>"
      ],
      "text/plain": [
       "    exchange underlyingConId tradingClass multiplier  \\\n",
       "0   NASDAQOM          756733          SPY        100   \n",
       "1        PSE          756733          SPY        100   \n",
       "2       BATS          756733          SPY        100   \n",
       "3       AMEX          756733          SPY        100   \n",
       "4      PEARL          756733          SPY        100   \n",
       "5   NASDAQBX          756733          SPY        100   \n",
       "6        ISE          756733          SPY        100   \n",
       "7       MIAX          756733          SPY        100   \n",
       "8      SMART          756733          SPY        100   \n",
       "9       CBOE          756733          SPY        100   \n",
       "10   MERCURY          756733          SPY        100   \n",
       "11      EDGX          756733          SPY        100   \n",
       "12    GEMINI          756733          SPY        100   \n",
       "13       BOX          756733          SPY        100   \n",
       "14     CBOE2          756733          SPY        100   \n",
       "15   EMERALD          756733          SPY        100   \n",
       "16      PHLX          756733          SPY        100   \n",
       "\n",
       "                                          expirations  \\\n",
       "0   [20200508, 20200511, 20200513, 20200515, 20200...   \n",
       "1   [20200508, 20200511, 20200513, 20200515, 20200...   \n",
       "2   [20200508, 20200511, 20200513, 20200515, 20200...   \n",
       "3   [20200508, 20200511, 20200513, 20200515, 20200...   \n",
       "4   [20200508, 20200511, 20200513, 20200515, 20200...   \n",
       "5   [20200508, 20200511, 20200513, 20200515, 20200...   \n",
       "6   [20200508, 20200511, 20200513, 20200515, 20200...   \n",
       "7   [20200508, 20200511, 20200513, 20200515, 20200...   \n",
       "8   [20200508, 20200511, 20200513, 20200515, 20200...   \n",
       "9   [20200508, 20200511, 20200513, 20200515, 20200...   \n",
       "10  [20200508, 20200511, 20200513, 20200515, 20200...   \n",
       "11  [20200508, 20200511, 20200513, 20200515, 20200...   \n",
       "12  [20200508, 20200511, 20200513, 20200515, 20200...   \n",
       "13  [20200508, 20200511, 20200513, 20200515, 20200...   \n",
       "14  [20200508, 20200511, 20200513, 20200515, 20200...   \n",
       "15  [20200508, 20200511, 20200513, 20200515, 20200...   \n",
       "16  [20200508, 20200511, 20200513, 20200515, 20200...   \n",
       "\n",
       "                                              strikes  \n",
       "0   [5.0, 10.0, 15.0, 20.0, 25.0, 30.0, 35.0, 40.0...  \n",
       "1   [5.0, 10.0, 15.0, 20.0, 25.0, 30.0, 35.0, 40.0...  \n",
       "2   [5.0, 10.0, 15.0, 20.0, 25.0, 30.0, 35.0, 40.0...  \n",
       "3   [5.0, 10.0, 15.0, 20.0, 25.0, 30.0, 35.0, 40.0...  \n",
       "4   [5.0, 10.0, 15.0, 20.0, 25.0, 30.0, 35.0, 40.0...  \n",
       "5   [5.0, 10.0, 15.0, 20.0, 25.0, 30.0, 35.0, 40.0...  \n",
       "6   [5.0, 10.0, 15.0, 20.0, 25.0, 30.0, 35.0, 40.0...  \n",
       "7   [5.0, 10.0, 15.0, 20.0, 25.0, 30.0, 35.0, 40.0...  \n",
       "8   [5.0, 10.0, 15.0, 20.0, 25.0, 30.0, 35.0, 40.0...  \n",
       "9   [5.0, 10.0, 15.0, 20.0, 25.0, 30.0, 35.0, 40.0...  \n",
       "10  [5.0, 10.0, 15.0, 20.0, 25.0, 30.0, 35.0, 40.0...  \n",
       "11  [5.0, 10.0, 15.0, 20.0, 25.0, 30.0, 35.0, 40.0...  \n",
       "12  [5.0, 10.0, 15.0, 20.0, 25.0, 30.0, 35.0, 40.0...  \n",
       "13  [5.0, 10.0, 15.0, 20.0, 25.0, 30.0, 35.0, 40.0...  \n",
       "14  [5.0, 10.0, 15.0, 20.0, 25.0, 30.0, 35.0, 40.0...  \n",
       "15  [5.0, 10.0, 15.0, 20.0, 25.0, 30.0, 35.0, 40.0...  \n",
       "16  [5.0, 10.0, 15.0, 20.0, 25.0, 30.0, 35.0, 40.0...  "
      ]
     },
     "execution_count": 16,
     "metadata": {},
     "output_type": "execute_result"
    }
   ],
   "source": [
    "chains = ib.reqSecDefOptParams(spx.symbol, '', spx.secType, spx.conId)\n",
    "\n",
    "util.df(chains)"
   ]
  },
  {
   "cell_type": "markdown",
   "metadata": {},
   "source": [
    "In this case we're only interested in the montly options trading on SMART:"
   ]
  },
  {
   "cell_type": "code",
   "execution_count": 17,
   "metadata": {},
   "outputs": [
    {
     "data": {
      "text/plain": [
       "OptionChain(exchange='SMART', underlyingConId='756733', tradingClass='SPY', multiplier='100', expirations=['20200508', '20200511', '20200513', '20200515', '20200518', '20200520', '20200522', '20200526', '20200527', '20200529', '20200601', '20200603', '20200605', '20200608', '20200610', '20200612', '20200619', '20200626', '20200630', '20200717', '20200821', '20200918', '20200930', '20201016', '20201120', '20201218', '20201231', '20210115', '20210319', '20210331', '20210618', '20210917', '20211217', '20220121', '20220318', '20221216'], strikes=[5.0, 10.0, 15.0, 20.0, 25.0, 30.0, 35.0, 40.0, 45.0, 50.0, 55.0, 60.0, 65.0, 70.0, 75.0, 80.0, 85.0, 90.0, 95.0, 100.0, 105.0, 110.0, 115.0, 120.0, 125.0, 130.0, 135.0, 140.0, 145.0, 146.0, 147.0, 148.0, 149.0, 150.0, 151.0, 152.0, 153.0, 154.0, 155.0, 156.0, 157.0, 158.0, 159.0, 160.0, 161.0, 162.0, 163.0, 164.0, 165.0, 166.0, 167.0, 168.0, 169.0, 170.0, 171.0, 172.0, 173.0, 174.0, 175.0, 176.0, 177.0, 178.0, 179.0, 180.0, 181.0, 182.0, 183.0, 184.0, 185.0, 186.0, 187.0, 188.0, 189.0, 190.0, 191.0, 192.0, 193.0, 194.0, 195.0, 196.0, 197.0, 198.0, 199.0, 200.0, 201.0, 202.0, 203.0, 204.0, 205.0, 206.0, 207.0, 208.0, 209.0, 210.0, 211.0, 212.0, 213.0, 214.0, 215.0, 216.0, 217.0, 218.0, 219.0, 220.0, 221.0, 222.0, 223.0, 224.0, 225.0, 226.0, 227.0, 227.5, 228.0, 229.0, 230.0, 231.0, 232.0, 232.5, 233.0, 234.0, 235.0, 236.0, 237.0, 237.5, 238.0, 239.0, 240.0, 241.0, 242.0, 242.5, 243.0, 244.0, 245.0, 246.0, 247.0, 247.5, 248.0, 249.0, 250.0, 251.0, 252.0, 252.5, 253.0, 254.0, 255.0, 256.0, 257.0, 257.5, 258.0, 259.0, 260.0, 261.0, 262.0, 262.5, 263.0, 264.0, 265.0, 266.0, 267.0, 267.5, 268.0, 269.0, 270.0, 271.0, 272.0, 272.5, 273.0, 274.0, 275.0, 276.0, 277.0, 277.5, 278.0, 279.0, 280.0, 281.0, 282.0, 283.0, 284.0, 285.0, 286.0, 287.0, 288.0, 289.0, 290.0, 291.0, 292.0, 293.0, 294.0, 295.0, 296.0, 297.0, 298.0, 299.0, 300.0, 301.0, 302.0, 303.0, 304.0, 305.0, 306.0, 307.0, 308.0, 309.0, 310.0, 311.0, 312.0, 313.0, 314.0, 315.0, 316.0, 317.0, 318.0, 319.0, 320.0, 321.0, 322.0, 323.0, 324.0, 325.0, 326.0, 327.0, 328.0, 329.0, 330.0, 331.0, 332.0, 333.0, 334.0, 335.0, 336.0, 337.0, 338.0, 339.0, 340.0, 341.0, 342.0, 343.0, 344.0, 345.0, 346.0, 347.0, 348.0, 349.0, 350.0, 351.0, 352.0, 353.0, 354.0, 355.0, 356.0, 357.0, 358.0, 359.0, 360.0, 361.0, 362.0, 363.0, 364.0, 365.0, 366.0, 367.0, 368.0, 369.0, 370.0, 371.0, 372.0, 373.0, 374.0, 375.0, 376.0, 377.0, 378.0, 379.0, 380.0, 381.0, 382.0, 383.0, 384.0, 385.0, 390.0, 395.0, 400.0, 405.0, 410.0, 415.0, 420.0, 425.0, 430.0, 435.0, 440.0, 445.0, 450.0, 455.0, 460.0, 465.0, 470.0, 480.0, 500.0])"
      ]
     },
     "execution_count": 17,
     "metadata": {},
     "output_type": "execute_result"
    }
   ],
   "source": [
    "chains = [ c for c in chains if c.tradingClass == 'SPY' and c.exchange == 'SMART']\n",
    "\n",
    "#print(len(chains))\n",
    "\n",
    "\n",
    "chain = chains[0]\n",
    "\n",
    "chain\n"
   ]
  },
  {
   "cell_type": "markdown",
   "metadata": {},
   "source": [
    "What we have here is the full matrix of expirations x strikes. \n",
    "\n",
    "From this we can build all PUT  option contracts that meet our conditions (PUTS):"
   ]
  },
  {
   "cell_type": "code",
   "execution_count": 18,
   "metadata": {},
   "outputs": [
    {
     "data": {
      "text/plain": [
       "24"
      ]
     },
     "execution_count": 18,
     "metadata": {},
     "output_type": "execute_result"
    }
   ],
   "source": [
    "strikes = [strike for strike in chain.strikes\n",
    "        if strike % 5 == 0\n",
    "        and spxValue - 20 < strike < spxValue + 20]\n",
    "expirations = sorted(exp for exp in chain.expirations)[:3]\n",
    "rights = ['P']\n",
    "\n",
    "putContracts = [Option('SPY', expiration, strike, right, 'SMART', tradingClass='SPY')\n",
    "        for right in rights\n",
    "        for expiration in expirations\n",
    "        for strike in strikes]\n",
    "\n",
    "contracts = ib.qualifyContracts(*putContracts)\n",
    "len(putContracts)"
   ]
  },
  {
   "cell_type": "markdown",
   "metadata": {},
   "source": [
    "Select one PUT option contract as 1st leg"
   ]
  },
  {
   "cell_type": "code",
   "execution_count": 19,
   "metadata": {},
   "outputs": [
    {
     "data": {
      "text/plain": [
       "Option(conId=416199316, symbol='SPY', lastTradeDateOrContractMonth='20200513', strike=280.0, right='P', multiplier='100', exchange='SMART', currency='USD', localSymbol='SPY   200513P00280000', tradingClass='SPY')"
      ]
     },
     "execution_count": 19,
     "metadata": {},
     "output_type": "execute_result"
    }
   ],
   "source": [
    "\n",
    "legOne = putContracts[18]\n",
    "\n",
    "[ legOneTicker ] = ib.reqTickers( legOne )\n",
    "\n",
    "legOne"
   ]
  },
  {
   "cell_type": "code",
   "execution_count": 29,
   "metadata": {},
   "outputs": [
    {
     "data": {
      "text/plain": [
       "1.42"
      ]
     },
     "execution_count": 29,
     "metadata": {},
     "output_type": "execute_result"
    }
   ],
   "source": [
    "#legOneTicker.marketPrice()\n",
    "\n",
    "legOneTicker.last"
   ]
  },
  {
   "cell_type": "markdown",
   "metadata": {},
   "source": [
    "The option greeks are available from the ``modelGreeks`` attribute, and if there is a bid, ask resp. last price available also from ``bidGreeks``, ``askGreeks`` and ``lastGreeks``. For streaming ticks the greek values will be kept up to date to the current market situation."
   ]
  },
  {
   "cell_type": "code",
   "execution_count": 43,
   "metadata": {},
   "outputs": [
    {
     "name": "stdout",
     "output_type": "stream",
     "text": [
      "False\n",
      "None\n"
     ]
    }
   ],
   "source": [
    "print(legOneTicker.hasBidAsk())\n",
    "\n",
    "print(legOneTicker.lastGreeks)"
   ]
  },
  {
   "cell_type": "markdown",
   "metadata": {},
   "source": [
    "build first combo leg"
   ]
  },
  {
   "cell_type": "code",
   "execution_count": 21,
   "metadata": {},
   "outputs": [],
   "source": [
    "comboLegOne = ComboLeg(conId=legOne.conId, ratio= 1, action='SELL', exchange='SMART' )\n"
   ]
  },
  {
   "cell_type": "markdown",
   "metadata": {},
   "source": [
    "Select second put contract as second leg"
   ]
  },
  {
   "cell_type": "code",
   "execution_count": 22,
   "metadata": {},
   "outputs": [
    {
     "data": {
      "text/plain": [
       "Option(conId=416199295, symbol='SPY', lastTradeDateOrContractMonth='20200513', strike=270.0, right='P', multiplier='100', exchange='SMART', currency='USD', localSymbol='SPY   200513P00270000', tradingClass='SPY')"
      ]
     },
     "execution_count": 22,
     "metadata": {},
     "output_type": "execute_result"
    }
   ],
   "source": [
    "legTwo = putContracts[16]\n",
    "\n",
    "[ legTwoTicker ] = ib.reqTickers( legTwo )\n",
    "\n",
    "legTwo"
   ]
  },
  {
   "cell_type": "code",
   "execution_count": 30,
   "metadata": {},
   "outputs": [
    {
     "data": {
      "text/plain": [
       "0.41"
      ]
     },
     "execution_count": 30,
     "metadata": {},
     "output_type": "execute_result"
    }
   ],
   "source": [
    "legTwoTicker.last"
   ]
  },
  {
   "cell_type": "raw",
   "metadata": {},
   "source": [
    "The option greeks are available from the ``modelGreeks`` attribute, and if there is a bid, ask resp. last price available also from ``bidGreeks``, ``askGreeks`` and ``lastGreeks``. For streaming ticks the greek values will be kept up to date to the current market situation."
   ]
  },
  {
   "cell_type": "code",
   "execution_count": 41,
   "metadata": {},
   "outputs": [
    {
     "name": "stdout",
     "output_type": "stream",
     "text": [
      "False\n",
      "None\n"
     ]
    }
   ],
   "source": [
    "print( legTwoTicker.hasBidAsk() )\n",
    "\n",
    "print(legTwoTicker.lastGreeks)"
   ]
  },
  {
   "cell_type": "markdown",
   "metadata": {},
   "source": [
    "Build second combo leg"
   ]
  },
  {
   "cell_type": "code",
   "execution_count": 25,
   "metadata": {},
   "outputs": [],
   "source": [
    "comboLegTwo = ComboLeg(conId=legTwo.conId, ratio=1, action='BUY', exchange='SMART')"
   ]
  },
  {
   "cell_type": "markdown",
   "metadata": {},
   "source": [
    "Build Contract"
   ]
  },
  {
   "cell_type": "code",
   "execution_count": 26,
   "metadata": {},
   "outputs": [],
   "source": [
    "combo = Contract( symbol=spx.symbol, secType='BAG', currency='USD', exchange='SMART', comboLegs=[comboLegOne, comboLegTwo] )\n",
    "\n",
    "\n",
    "#not valid since I think 'BAG' type of contracts don't really have a contract ID\n",
    "#ib.qualifyContracts( combo )\n"
   ]
  },
  {
   "cell_type": "markdown",
   "metadata": {},
   "source": [
    "Request combo ticker... So far unable to get last price or any info"
   ]
  },
  {
   "cell_type": "code",
   "execution_count": 27,
   "metadata": {},
   "outputs": [
    {
     "data": {
      "text/plain": [
       "nan"
      ]
     },
     "execution_count": 27,
     "metadata": {},
     "output_type": "execute_result"
    }
   ],
   "source": [
    "[comboTicker] = ib.reqTickers( combo )\n",
    "\n",
    "comboTicker.last"
   ]
  },
  {
   "cell_type": "markdown",
   "metadata": {},
   "source": [
    "Create / Prepare (save?) combo order"
   ]
  },
  {
   "cell_type": "code",
   "execution_count": null,
   "metadata": {},
   "outputs": [],
   "source": [
    "#! [market]\n",
    "\n",
    "MarketOrder( action=\"BUY\", )\n",
    "\n",
    "order = Order()\n",
    "order.action = \"SELL\"\n",
    "order.orderType = \"MKT\"\n",
    "order.totalQuantity = 1\n",
    "\n",
    "ib.\n",
    "        "
   ]
  },
  {
   "cell_type": "code",
   "execution_count": 11,
   "metadata": {},
   "outputs": [],
   "source": [
    "ib.disconnect()"
   ]
  }
 ],
 "metadata": {
  "kernelspec": {
   "display_name": "Python 3",
   "language": "python",
   "name": "python3"
  },
  "language_info": {
   "codemirror_mode": {
    "name": "ipython",
    "version": 3
   },
   "file_extension": ".py",
   "mimetype": "text/x-python",
   "name": "python",
   "nbconvert_exporter": "python",
   "pygments_lexer": "ipython3",
   "version": "3.6.10"
  }
 },
 "nbformat": 4,
 "nbformat_minor": 4
}
