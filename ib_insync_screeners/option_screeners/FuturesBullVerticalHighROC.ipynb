{
 "cells": [
  {
   "cell_type": "markdown",
   "metadata": {},
   "source": [
    "Futures Bull Vertical Screener\n",
    "======="
   ]
  },
  {
   "cell_type": "markdown",
   "metadata": {},
   "source": [
    "We want to find high ROC credit bull PUT verticals for future contracts, in 'underlying_symbol' underlyings that comply with :\n",
    "\n",
    "* future contracts for months forward up to 'months_forward'\n",
    "* Average option volume > 'min_option_volume'.\n",
    "* Iv rank > min_iv_rank\n",
    "\n",
    "After previous filter, scan option chains for remaining underlyings:\n",
    "\n",
    "* Explore up to 'num_month_expiries' monthly option expiries forward from current date.\n",
    "* Scan combinations of strike prices starting from smallest strike to  (ATM - 'pct_under_px_range'% ) range. Zero explores all available strike combinations.\n",
    "* Limit risk to 'max_risk' USD (which influences allowable distance between strikes).\n",
    "\n",
    "Notes:\n",
    "1. If notional value of a naked put strategy is less than 'max_risk' then switch to naked put strategy (do not buy 2long leg).\n",
    "2. Order resulting strategies descending on 'Return on Capital' (MaxProfit / Margin ).\n",
    "3. If 'ask_tws_load==True', user will be prompted to load strategies on TWS.\n",
    "4. Only OTM options will be scaned (strikes below current price)"
   ]
  },
  {
   "cell_type": "code",
   "execution_count": 81,
   "metadata": {
    "scrolled": true
   },
   "outputs": [],
   "source": [
    "from ib_insync import *\n",
    "\n",
    "from datetime import datetime, timezone, timedelta\n",
    "\n",
    "import pandas as pd\n"
   ]
  },
  {
   "cell_type": "code",
   "execution_count": 82,
   "metadata": {},
   "outputs": [],
   "source": [
    "underlying_symbol='CL'\n",
    "\n",
    "#underlying filters\n",
    "months_forward = 1\n",
    "min_option_open_interest = 100000\n",
    "min_iv_rank = .10 #10% = .10\n",
    "\n",
    "#option strategy filters\n",
    "pct_under_px_range = .20 # scan strikes under this % below cunderlying price \n",
    "num_month_expiries = 3 #expires forward\n",
    "max_loss = 2000 # max loss\n",
    "min_profit = 200 #min profit\n",
    "ask_tws_load =True #ask wheter to load strategies"
   ]
  },
  {
   "cell_type": "code",
   "execution_count": 83,
   "metadata": {},
   "outputs": [
    {
     "data": {
      "text/plain": [
       "<IB connected to 127.0.0.1:7497 clientId=18>"
      ]
     },
     "execution_count": 83,
     "metadata": {},
     "output_type": "execute_result"
    }
   ],
   "source": [
    "util.startLoop()\n",
    "\n",
    "ib = IB()\n",
    "\n",
    "if ib.isConnected() == False:\n",
    "    ib.connect('127.0.0.1', 7497, clientId=18, readonly = True)"
   ]
  },
  {
   "cell_type": "markdown",
   "metadata": {},
   "source": [
    "### Initial filtering\n",
    "\n",
    "Search future contracts on 'underlying_symbol' commodity with filters: 'months_forward', 'min_option_volume', 'min_iv_rank'"
   ]
  },
  {
   "cell_type": "code",
   "execution_count": 84,
   "metadata": {},
   "outputs": [
    {
     "data": {
      "text/plain": [
       "datetime.datetime(2020, 7, 4, 21, 59, 19, 681301)"
      ]
     },
     "execution_count": 84,
     "metadata": {},
     "output_type": "execute_result"
    }
   ],
   "source": [
    "#get 'months_forward' month expiration datetime\n",
    "curdate = datetime.now()\n",
    "three_months = timedelta( weeks=months_forward*4 )\n",
    "expiration_limit = curdate + three_months\n",
    "\n",
    "expiration_limit"
   ]
  },
  {
   "cell_type": "code",
   "execution_count": 85,
   "metadata": {},
   "outputs": [
    {
     "name": "stdout",
     "output_type": "stream",
     "text": [
      "128 contracts found related to CL\n"
     ]
    }
   ],
   "source": [
    "contracts = []\n",
    "\n",
    "contract = Future(symbol=underlying_symbol, exchange='NYMEX', currency='USD')\n",
    "\n",
    "contracts = ib.reqContractDetails(contract)\n",
    "\n",
    "print('{} contracts found related to {}'.format( len(contracts), underlying_symbol ) )"
   ]
  },
  {
   "cell_type": "markdown",
   "metadata": {},
   "source": [
    "**Filter by months_forward**"
   ]
  },
  {
   "cell_type": "code",
   "execution_count": 86,
   "metadata": {},
   "outputs": [
    {
     "name": "stdout",
     "output_type": "stream",
     "text": [
      "1 contracts after months_forward = 1 filter\n"
     ]
    },
    {
     "data": {
      "text/plain": [
       "[Contract(secType='FUT', conId=174230636, symbol='CL', lastTradeDateOrContractMonth='20200622', multiplier='1000', exchange='NYMEX', currency='USD', localSymbol='CLN0', tradingClass='CL')]"
      ]
     },
     "execution_count": 86,
     "metadata": {},
     "output_type": "execute_result"
    }
   ],
   "source": [
    "filteredContracts = []\n",
    "\n",
    "for c in contracts:\n",
    "    contract_exp = pd.to_datetime( c.contract.lastTradeDateOrContractMonth,  format='%Y%m%d' )\n",
    "    if contract_exp < expiration_limit:\n",
    "        filteredContracts.append(c.contract)\n",
    "\n",
    "print( '{} contracts after months_forward = {} filter'.format( len( filteredContracts ), months_forward ) )\n",
    "\n",
    "filteredContracts"
   ]
  },
  {
   "cell_type": "markdown",
   "metadata": {},
   "source": [
    "**Filter by minimum open interest**\n",
    "\n",
    "This needs market data subscription."
   ]
  },
  {
   "cell_type": "code",
   "execution_count": 87,
   "metadata": {},
   "outputs": [
    {
     "data": {
      "text/plain": [
       "True"
      ]
     },
     "execution_count": 87,
     "metadata": {},
     "output_type": "execute_result"
    }
   ],
   "source": [
    "tickers = {}\n",
    "\n",
    "#generickTickList:\n",
    "# 101: call option open interest, put option open interest\n",
    "# 105: avOptionVolume (not used, not working)\n",
    "# 106: impliedvolatility\n",
    "\n",
    "#TODO: this might fail for larger contract lists \n",
    "for c in filteredContracts:\n",
    "    tickers.update( { c.conId : ib.reqMktData( c, genericTickList='101,105,106' ) } )\n",
    "\n",
    "#wait a couple of seconds for ticker info to be filled\n",
    "ib.sleep( 2 )"
   ]
  },
  {
   "cell_type": "markdown",
   "metadata": {},
   "source": [
    "Get sum call + put open interest and filter"
   ]
  },
  {
   "cell_type": "code",
   "execution_count": 88,
   "metadata": {},
   "outputs": [
    {
     "name": "stdout",
     "output_type": "stream",
     "text": [
      "1 contracts after min_option_open_interest = 100000 \n"
     ]
    }
   ],
   "source": [
    "for c in filteredContracts:\n",
    "    ticker = tickers[ c.conId ]\n",
    "    if (ticker.putOpenInterest + ticker.callOpenInterest) < min_option_open_interest:\n",
    "        filteredContracts.remove( ticker.contract )\n",
    "        ib.cancelMktData( ticker.contract )\n",
    "        tickers.remove( c.conId )\n",
    "        \n",
    "print( '{} contracts after min_option_open_interest = {} '.format( len(filteredContracts), min_option_open_interest ) )"
   ]
  },
  {
   "cell_type": "markdown",
   "metadata": {},
   "source": [
    "**Filter by IV rank**"
   ]
  },
  {
   "cell_type": "code",
   "execution_count": 89,
   "metadata": {},
   "outputs": [
    {
     "data": {
      "text/plain": [
       "True"
      ]
     },
     "execution_count": 89,
     "metadata": {},
     "output_type": "execute_result"
    }
   ],
   "source": [
    "#get IV historical bars\n",
    "\n",
    "histBars = {}\n",
    "\n",
    "for c in filteredContracts:\n",
    "    bars = ib.reqHistoricalData(\n",
    "            c,\n",
    "            endDateTime='',\n",
    "            durationStr='256 D',\n",
    "            barSizeSetting='1 day',\n",
    "            whatToShow='OPTION_IMPLIED_VOLATILITY',\n",
    "            useRTH=True,\n",
    "            formatDate=1)\n",
    "    \n",
    "    histBars.update( { c.conId : bars} )\n",
    "    \n",
    "ib.sleep(2)\n"
   ]
  },
  {
   "cell_type": "code",
   "execution_count": 90,
   "metadata": {},
   "outputs": [
    {
     "name": "stdout",
     "output_type": "stream",
     "text": [
      "IV rank for 174230636 contract: 0.1886891883004968\n"
     ]
    }
   ],
   "source": [
    "#highest 53 W IV\n",
    "ivHighs = {}\n",
    "#current IV\n",
    "ivCurrents = {}\n",
    "#curent 52 W IV rank per contract\n",
    "ivRanks = {}\n",
    "\n",
    "#get highest IV / IV rank\n",
    "for c in filteredContracts:\n",
    "    curHistBars = histBars[ c.conId ]\n",
    "    sortedBars = sorted( curHistBars, key=lambda bar: bar.close, reverse=True )\n",
    "    ivHighs.update( { c.conId : sortedBars[0].close } )\n",
    "    ivCurrents.update( { c.conId : curHistBars[-1].close } )\n",
    "    print( 'IV rank for {} contract: {}'.format( c.conId, curHistBars[-1].close / sortedBars[0].close ) )\n",
    "    ivRanks.update( { c.conId : curHistBars[-1].close / sortedBars[0].close } )\n",
    "    \n"
   ]
  },
  {
   "cell_type": "code",
   "execution_count": 91,
   "metadata": {},
   "outputs": [
    {
     "name": "stdout",
     "output_type": "stream",
     "text": [
      "1 contracts surpased iv rank minumum if 0.1\n"
     ]
    }
   ],
   "source": [
    "for c in filteredContracts:\n",
    "    if ivRanks[ c.conId ] < min_iv_rank:\n",
    "        filteredContracts.remove(c)\n",
    "        tickers.remove( c.conId )\n",
    "        ib.cancelMktData( c )\n",
    "        \n",
    "        \n",
    "print( '{} contracts surpased iv rank minumum if {}'.format(len(filteredContracts), min_iv_rank ) )\n",
    "            "
   ]
  },
  {
   "cell_type": "markdown",
   "metadata": {},
   "source": [
    "**At this point screener has discriminated future contracts by:**\n",
    "\n",
    "    * Expiration.\n",
    "    * Open Interest (Put+Call Option contracts).\n",
    "    * 52 week IV rank."
   ]
  },
  {
   "cell_type": "markdown",
   "metadata": {},
   "source": [
    "**Request option chains for remaining contracts**"
   ]
  },
  {
   "cell_type": "code",
   "execution_count": 92,
   "metadata": {},
   "outputs": [
    {
     "name": "stdout",
     "output_type": "stream",
     "text": [
      "1 chains found\n"
     ]
    }
   ],
   "source": [
    "chains = {}\n",
    "\n",
    "for c in filteredContracts:\n",
    "    chains.update( { c.conId : ib.reqSecDefOptParams(c.symbol, c.exchange, c.secType, c.conId ) } )\n",
    "\n",
    "print('{} chains found'.format( len(chains) ) )\n",
    "\n",
    "#util.df(chains)"
   ]
  },
  {
   "cell_type": "markdown",
   "metadata": {},
   "source": [
    "From this point on we can build all PUT  option contracts that meet our conditions (Naked puts / Bull Put Spreads).\n",
    "\n",
    "Detail of implemented algorithm:\n",
    "  \n",
    "1. Iterate over stock option 'chains', select first chain.\n",
    "  1. filter the expirations list, limit to up to 3 month expirations.\n",
    "  2. filter strike list, limit to strikes below 'pct_under_px_range'\n",
    "  3. Explore remaining strike / expiriation combinations in filtered option chains:\n",
    "     1. **Chains / Expirations loop**. Iterate over chains/ expirations, select first chain/expiration (might be only one per chain):\n",
    "        1.  **Leg 1 loop**. Iterate over strikes, select leg 1 strike.\n",
    "            1. Combine selected strike with current expiration from outer loop.\n",
    "            2. Build Option contract.\n",
    "            3. Request market data (price) for 1st leg ontract.\n",
    "            4. Fix leg 1 contract for going to inner loop.\n",
    "                 1. **Leg 2 loop**. Iterate over strikes, select leg 2 strike\n",
    "                     1. Is strike < combo leg 1 strike? No : Discard / iterate again, Yes: Select it.\n",
    "                     2. Combine selected strike with current expiration from outer loop\n",
    "                     3. Build Option contract.\n",
    "                     4. Request market data (price) for 2nd leg contract.\n",
    "                     5. Calculate COMBO price (max profit) using 1st and 2nd leg market data.\n",
    "                     6. Is maximum profit > 'min_profit' from screener parameters? No: Discard.\n",
    "                     7. Calculate maximum loss using 1st and 2nd leg strike distance.\n",
    "                     8. Is maximum loss > 'max_risk' from screener parameters? Yes: Discard.\n",
    "                     9. Create 'COMBO' order,  request 'whatif' for price / margin information\n",
    "                    10. Save 'COMBO' order / legs / ROC etc in local **results** data frame.\n",
    "            5. Continue loop to step 1 in **Leg 1 loop**.\n",
    "        2. Save local **results** array into **combosByChain** dictionary.\n",
    "        3. Continue loop to step 1 in **Chains / Expirations loop**.\n",
    "  4. Results are stored in 'combosByContract' dictionary."
   ]
  },
  {
   "cell_type": "code",
   "execution_count": 93,
   "metadata": {},
   "outputs": [
    {
     "data": {
      "text/plain": [
       "datetime.datetime(2020, 8, 29, 21, 59, 24, 956157)"
      ]
     },
     "execution_count": 93,
     "metadata": {},
     "output_type": "execute_result"
    }
   ],
   "source": [
    "# prepare 'num_month_expiries' datetime object\n",
    "curdate = datetime.now()\n",
    "delta_forward = timedelta( weeks = num_month_expiries*4 )\n",
    "option_expiration_limit = curdate + delta_forward\n",
    "\n",
    "option_expiration_limit"
   ]
  },
  {
   "cell_type": "markdown",
   "metadata": {},
   "source": [
    "## Filter option chains\n",
    "\n",
    "Filter option chains for filtered contracts according to:\n",
    "* **'pct_under_px_range'** (percentage below price)  \n",
    "* **'option_expiration_limit'** (option expiration)"
   ]
  },
  {
   "cell_type": "code",
   "execution_count": 94,
   "metadata": {},
   "outputs": [
    {
     "name": "stdout",
     "output_type": "stream",
     "text": [
      "current price for contract 174230636 : 37.41\n"
     ]
    }
   ],
   "source": [
    "# filter chains strikes / expirations:\n",
    "\n",
    "adjustedContractChains = {}\n",
    "\n",
    "for c in filteredContracts:\n",
    "    adjustedChains = []\n",
    "    curChains = chains[ c.conId  ]\n",
    "    curPrice = tickers[ c.conId ].marketPrice() # might need to replace by 'saved' value\n",
    "    print( 'current price for contract {} : {}'.format( c.conId, curPrice ) )\n",
    "    \n",
    "    for chain in curChains:\n",
    "        \n",
    "        expdate = pd.to_datetime( chain.expirations[ 0 ]  )\n",
    "        \n",
    "        # expiration within range? (suppose sorted already)\n",
    "        if( expdate < option_expiration_limit ):\n",
    "            #filter strikes ('pct_under_px_range')\n",
    "            newstrikes = [ s for s in chain.strikes if s > ( curPrice * ( 1 - pct_under_px_range ) ) and s <= curPrice ]\n",
    "                        \n",
    "            #OptionChain is 'NamedTuple' (not mutable)\n",
    "            adjustedChain = OptionChain( chain.exchange, \n",
    "                                        chain.underlyingConId,\n",
    "                                        chain.tradingClass,\n",
    "                                        chain.multiplier,\n",
    "                                        chain.expirations,\n",
    "                                        newstrikes)\n",
    "            #adjustedChain.strikes = newstrikes\n",
    "            adjustedChains.append( adjustedChain )\n",
    "    \n",
    "    adjustedContractChains.update( { c.conId : adjustedChains } )"
   ]
  },
  {
   "cell_type": "markdown",
   "metadata": {},
   "source": [
    "### Combo screening\n",
    "\n",
    "Create L1/L2 combo orders, calculate prices, filter by min_profit, max_loss, save into **combosByContract** / **combosByChain** dictionaries\n"
   ]
  },
  {
   "cell_type": "code",
   "execution_count": 95,
   "metadata": {},
   "outputs": [
    {
     "name": "stdout",
     "output_type": "stream",
     "text": [
      "15 tickers received for combo 174230636 contract chain\n",
      "64 combos found for chain with trading class LO2 and expiration 20200612\n",
      "15 tickers received for combo 174230636 contract chain\n",
      "70 combos found for chain with trading class LO and expiration 20200617\n"
     ]
    }
   ],
   "source": [
    "# screened contracts will be placed here, one list per contract\n",
    "# { conId : { combo : orderState } }\n",
    "combosByContract = {}\n",
    "combosByChain = {}\n",
    "\n",
    "\n",
    "# Create / Filter combos\n",
    "for c in filteredContracts:\n",
    "\n",
    "    for chain in adjustedContractChains[ c.conId ]:\n",
    "            \n",
    "            results = []\n",
    "\n",
    "            #chainCombos = pd.DataFrame( columns=cols )\n",
    "            \n",
    "            #suppose only 1 expiration per chain\n",
    "            comboContracts = [FuturesOption(c.symbol, chain.expirations[0], strike, 'P', c.exchange )\n",
    "                    for strike in chain.strikes]\n",
    "\n",
    "            comboContracts = ib.qualifyContracts( *comboContracts )\n",
    "            \n",
    "            # should be less than 100 requests (request limit)\n",
    "            comboTickers = ib.reqTickers( *comboContracts )\n",
    "                        \n",
    "            print( '{} tickers received for combo {} contract chain'.format( len(comboTickers), chain.underlyingConId ) )\n",
    "            \n",
    "            # ---- leg1 loop ----\n",
    "            for leg1Ticker in comboTickers:\n",
    "                leg1Price = leg1Ticker.marketPrice()\n",
    "                leg1Strike = leg1Ticker.contract.strike\n",
    "                 # early filter leg1 by min_profit\n",
    "                if( ( leg1Price * int(chain.multiplier) ) < min_profit ):\n",
    "                    comboContracts.remove(leg1Ticker.contract)\n",
    "                else:\n",
    "                    #fix leg 1\n",
    "                    leg1 = ComboLeg(conId=leg1Ticker.contract.conId, \n",
    "                                    ratio= 1, \n",
    "                                    action='SELL', \n",
    "                                    exchange=leg1Ticker.contract.exchange )\n",
    "                    # ---- leg 2 loop ----\n",
    "                    for leg2Ticker in comboTickers:\n",
    "                        leg2Strike = leg2Ticker.contract.strike\n",
    "                        if( leg2Ticker.contract.strike < leg1Strike ):\n",
    "                            leg2Price = leg2Ticker.marketPrice()\n",
    "                            #leg2 hedge should cost less than leg1\n",
    "                            comboPrice = ( leg1Price - leg2Price ) * int(chain.multiplier)\n",
    "                            \n",
    "                            if ( comboPrice < max_loss ) and \\\n",
    "                            ( comboPrice > min_profit ):\n",
    "                                    \n",
    "                                leg2 = ComboLeg( conId=leg2Ticker.contract.conId,  \n",
    "                                                ratio=1,\n",
    "                                                action='BUY',\n",
    "                                                exchange=leg2Ticker.contract.exchange )\n",
    "\n",
    "                                #create 'combo contract'\n",
    "                                combo = Contract( symbol=leg1Ticker.contract.symbol,#check!! \n",
    "                                                 secType='BAG', \n",
    "                                                 currency='USD', \n",
    "                                                 exchange=leg1Ticker.contract.exchange, \n",
    "                                                 comboLegs=[leg1, leg2])\n",
    "\n",
    "                                order = MarketOrder( action=\"BUY\", \n",
    "                                                   totalQuantity = 1 )\n",
    "\n",
    "                                #this method is blocking\n",
    "                                orderState = ib.whatIfOrder( combo, order )\n",
    "                                \n",
    "                                roc = comboPrice / float(orderState.maintMarginChange)\n",
    "\n",
    "                                #model greeks might not be pupulated (check)\n",
    "                                if leg1Ticker.modelGreeks != None :\n",
    "                                    leg1IV = leg1Ticker.modelGreeks.impliedVol\n",
    "                                    leg2IV = leg2Ticker.modelGreeks.impliedVol\n",
    "                                else:\n",
    "                                    leg1IV = float('nan')\n",
    "                                    leg2IV = float('nan')\n",
    "\n",
    "                                    \n",
    "\n",
    "                                results.append( [ leg1Strike,\n",
    "                                                   leg1Ticker.contract.conId,\n",
    "                                                   leg1IV,\n",
    "                                                   leg2Strike,\n",
    "                                                   leg2Ticker.contract.conId,\n",
    "                                                   leg2IV,\n",
    "                                                   comboPrice,\n",
    "                                                   float(orderState.maintMarginChange),\n",
    "                                                   roc ] )\n",
    "                                \n",
    "            \n",
    "            combos_df = pd.DataFrame( data = results, columns=[ 'leg1Strike', \n",
    "                                                                'leg1ContractId',\n",
    "                                                                'leg1IV',\n",
    "                                                                'leg2Strike',\n",
    "                                                                'leg2ContractId',\n",
    "                                                                'leg2IV',\n",
    "                                                                'maxProfit',\n",
    "                                                                'margin',\n",
    "                                                                'ROC' ] )\n",
    "            \n",
    "            print( '{} combos found for chain with trading class {} and expiration {}'.format( \\\n",
    "                len( combos_df.index ), chain.tradingClass, chain.expirations[0] ) )\n",
    "            \n",
    "            combosByChain.update( { chain.expirations[0] : combos_df } )\n",
    "                        \n",
    "    combosByContract.update( { c.conId: combosByChain } )"
   ]
  },
  {
   "cell_type": "markdown",
   "metadata": {},
   "source": [
    "### Sort ascending by 'ROC' column"
   ]
  },
  {
   "cell_type": "code",
   "execution_count": 103,
   "metadata": {},
   "outputs": [],
   "source": [
    "\n",
    "for ( expiration, chain ) in combosByChain.items():\n",
    "    chain.sort_values( by='ROC', axis=0, ascending=False, inplace=True, ignore_index=True )"
   ]
  },
  {
   "cell_type": "markdown",
   "metadata": {},
   "source": [
    "## RESULTS\n",
    "\n",
    "At this point we should have:\n",
    "\n",
    "- **combosByContract** : dictionary, all combos per expiration grouped by contracts\n",
    "- **combosByChain** : dictionary, all combos grouped by expiration\n",
    "- **IvRanks**: dictionary, ivRanks for each of the possible underlying contracts\n",
    "\n",
    "It should be straightforward to analyze and visually represent the best strategies.\n"
   ]
  },
  {
   "cell_type": "code",
   "execution_count": 11,
   "metadata": {},
   "outputs": [],
   "source": [
    "#ib.disconnect()"
   ]
  }
 ],
 "metadata": {
  "kernelspec": {
   "display_name": "Python 3",
   "language": "python",
   "name": "python3"
  },
  "language_info": {
   "codemirror_mode": {
    "name": "ipython",
    "version": 3
   },
   "file_extension": ".py",
   "mimetype": "text/x-python",
   "name": "python",
   "nbconvert_exporter": "python",
   "pygments_lexer": "ipython3",
   "version": "3.6.10"
  }
 },
 "nbformat": 4,
 "nbformat_minor": 4
}
